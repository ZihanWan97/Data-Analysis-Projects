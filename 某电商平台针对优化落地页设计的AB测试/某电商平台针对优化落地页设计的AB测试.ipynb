{
 "cells": [
  {
   "cell_type": "markdown",
   "id": "5d369795",
   "metadata": {},
   "source": [
    "# 某电商平台针对优化落地页设计的A/B测试"
   ]
  },
  {
   "cell_type": "markdown",
   "id": "ca8c5695",
   "metadata": {},
   "source": [
    "## 1. 确定实验样本量"
   ]
  },
  {
   "cell_type": "code",
   "execution_count": 1,
   "id": "7016062c",
   "metadata": {},
   "outputs": [],
   "source": [
    "# 使用Python完成最小样本量计算\n",
    "import numpy as np \n",
    "import pandas as pd \n",
    "import scipy.stats as stats \n",
    "import statsmodels.stats.api as sms \n",
    "import matplotlib as mpl \n",
    "import matplotlib.pyplot as plt \n",
    "import seaborn as sns "
   ]
  },
  {
   "cell_type": "code",
   "execution_count": 2,
   "id": "2ddc77bb",
   "metadata": {},
   "outputs": [],
   "source": [
    "# 根据我们的预期比率计算效果量\n",
    "effect_size = sms.proportion_effectsize(0.13, 0.15) "
   ]
  },
  {
   "cell_type": "code",
   "execution_count": 3,
   "id": "890ab625",
   "metadata": {},
   "outputs": [
    {
     "data": {
      "text/plain": [
       "-0.0576728617308947"
      ]
     },
     "execution_count": 3,
     "metadata": {},
     "output_type": "execute_result"
    }
   ],
   "source": [
    "effect_size"
   ]
  },
  {
   "cell_type": "code",
   "execution_count": 4,
   "id": "a169ef89",
   "metadata": {},
   "outputs": [],
   "source": [
    "# 计算所需的样本量\n",
    "required_n = sms.NormalIndPower().solve_power( \n",
    "    effect_size, \n",
    "    power=0.8, \n",
    "    alpha=0.05, \n",
    "    ratio=1 ,\n",
    "    ) "
   ]
  },
  {
   "cell_type": "code",
   "execution_count": 5,
   "id": "ad1f75dc",
   "metadata": {},
   "outputs": [
    {
     "data": {
      "text/plain": [
       "4719.4740575998185"
      ]
     },
     "execution_count": 5,
     "metadata": {},
     "output_type": "execute_result"
    }
   ],
   "source": [
    "required_n"
   ]
  },
  {
   "cell_type": "code",
   "execution_count": 6,
   "id": "e854c64a",
   "metadata": {},
   "outputs": [
    {
     "data": {
      "text/plain": [
       "4720.0"
      ]
     },
     "execution_count": 6,
     "metadata": {},
     "output_type": "execute_result"
    }
   ],
   "source": [
    "# 向上取整\n",
    "np.ceil(required_n)"
   ]
  },
  {
   "cell_type": "code",
   "execution_count": 7,
   "id": "e9df4d2c",
   "metadata": {},
   "outputs": [
    {
     "data": {
      "text/plain": [
       "9440.0"
      ]
     },
     "execution_count": 7,
     "metadata": {},
     "output_type": "execute_result"
    }
   ],
   "source": [
    "# 此次AB测试至少需要9440个用户参与测试\n",
    "np.ceil(required_n)*2 "
   ]
  },
  {
   "cell_type": "markdown",
   "id": "d407b740",
   "metadata": {},
   "source": [
    "## 2. 数据导入 "
   ]
  },
  {
   "cell_type": "code",
   "execution_count": 8,
   "id": "2473abbf",
   "metadata": {},
   "outputs": [
    {
     "data": {
      "text/html": [
       "<div>\n",
       "<style scoped>\n",
       "    .dataframe tbody tr th:only-of-type {\n",
       "        vertical-align: middle;\n",
       "    }\n",
       "\n",
       "    .dataframe tbody tr th {\n",
       "        vertical-align: top;\n",
       "    }\n",
       "\n",
       "    .dataframe thead th {\n",
       "        text-align: right;\n",
       "    }\n",
       "</style>\n",
       "<table border=\"1\" class=\"dataframe\">\n",
       "  <thead>\n",
       "    <tr style=\"text-align: right;\">\n",
       "      <th></th>\n",
       "      <th>user_id</th>\n",
       "      <th>timestamp</th>\n",
       "      <th>group</th>\n",
       "      <th>landing_page</th>\n",
       "      <th>converted</th>\n",
       "    </tr>\n",
       "  </thead>\n",
       "  <tbody>\n",
       "    <tr>\n",
       "      <th>0</th>\n",
       "      <td>851104</td>\n",
       "      <td>11:48.6</td>\n",
       "      <td>control</td>\n",
       "      <td>old_page</td>\n",
       "      <td>0</td>\n",
       "    </tr>\n",
       "    <tr>\n",
       "      <th>1</th>\n",
       "      <td>804228</td>\n",
       "      <td>01:45.2</td>\n",
       "      <td>control</td>\n",
       "      <td>old_page</td>\n",
       "      <td>0</td>\n",
       "    </tr>\n",
       "    <tr>\n",
       "      <th>2</th>\n",
       "      <td>661590</td>\n",
       "      <td>55:06.2</td>\n",
       "      <td>treatment</td>\n",
       "      <td>new_page</td>\n",
       "      <td>0</td>\n",
       "    </tr>\n",
       "    <tr>\n",
       "      <th>3</th>\n",
       "      <td>853541</td>\n",
       "      <td>28:03.1</td>\n",
       "      <td>treatment</td>\n",
       "      <td>new_page</td>\n",
       "      <td>0</td>\n",
       "    </tr>\n",
       "    <tr>\n",
       "      <th>4</th>\n",
       "      <td>864975</td>\n",
       "      <td>52:26.2</td>\n",
       "      <td>control</td>\n",
       "      <td>old_page</td>\n",
       "      <td>1</td>\n",
       "    </tr>\n",
       "  </tbody>\n",
       "</table>\n",
       "</div>"
      ],
      "text/plain": [
       "   user_id timestamp      group landing_page  converted\n",
       "0   851104   11:48.6    control     old_page          0\n",
       "1   804228   01:45.2    control     old_page          0\n",
       "2   661590   55:06.2  treatment     new_page          0\n",
       "3   853541   28:03.1  treatment     new_page          0\n",
       "4   864975   52:26.2    control     old_page          1"
      ]
     },
     "execution_count": 8,
     "metadata": {},
     "output_type": "execute_result"
    }
   ],
   "source": [
    "df = pd.read_csv(\"ab_data.csv\")\n",
    "df.head()"
   ]
  },
  {
   "cell_type": "code",
   "execution_count": 9,
   "id": "cb70945f",
   "metadata": {},
   "outputs": [
    {
     "name": "stdout",
     "output_type": "stream",
     "text": [
      "<class 'pandas.core.frame.DataFrame'>\n",
      "RangeIndex: 294478 entries, 0 to 294477\n",
      "Data columns (total 5 columns):\n",
      " #   Column        Non-Null Count   Dtype \n",
      "---  ------        --------------   ----- \n",
      " 0   user_id       294478 non-null  int64 \n",
      " 1   timestamp     294478 non-null  object\n",
      " 2   group         294478 non-null  object\n",
      " 3   landing_page  294478 non-null  object\n",
      " 4   converted     294478 non-null  int64 \n",
      "dtypes: int64(2), object(3)\n",
      "memory usage: 11.2+ MB\n"
     ]
    }
   ],
   "source": [
    "df.info()"
   ]
  },
  {
   "cell_type": "markdown",
   "id": "8cf2a9f6",
   "metadata": {},
   "source": [
    "<div class=\"alert alert-block alert-success\">\n",
    "    \n",
    "- 字段名称含义：\n",
    "    - user_id：用户ID\n",
    "    - timestamp：用户访问页面的时间\n",
    "    - group：用户分组情况（新落地页为treatment组，旧版落地页为control组）\n",
    "    - landing_page：每位用户看到的落地页（分为新旧两版落地页）\n",
    "    - converted：是否成功转化（1代表成功转化，0代表未转化）\n",
    "    \n",
    "</div>"
   ]
  },
  {
   "cell_type": "code",
   "execution_count": 10,
   "id": "77334a0a",
   "metadata": {},
   "outputs": [
    {
     "data": {
      "text/plain": [
       "treatment    147276\n",
       "control      147202\n",
       "Name: group, dtype: int64"
      ]
     },
     "execution_count": 10,
     "metadata": {},
     "output_type": "execute_result"
    }
   ],
   "source": [
    "df[\"group\"].value_counts()"
   ]
  },
  {
   "cell_type": "code",
   "execution_count": 11,
   "id": "550b60dd",
   "metadata": {},
   "outputs": [
    {
     "data": {
      "text/plain": [
       "old_page    147239\n",
       "new_page    147239\n",
       "Name: landing_page, dtype: int64"
      ]
     },
     "execution_count": 11,
     "metadata": {},
     "output_type": "execute_result"
    }
   ],
   "source": [
    "df[\"landing_page\"].value_counts()"
   ]
  },
  {
   "cell_type": "markdown",
   "id": "c3c35f15",
   "metadata": {},
   "source": [
    "## 3. 数据清洗 "
   ]
  },
  {
   "cell_type": "markdown",
   "id": "02edf0a3",
   "metadata": {},
   "source": [
    "<div class=\"alert alert-block alert-success\">\n",
    "    \n",
    "- 检查缺失值、重复值\n",
    "    \n",
    "</div>"
   ]
  },
  {
   "cell_type": "code",
   "execution_count": 12,
   "id": "20e0512e",
   "metadata": {},
   "outputs": [
    {
     "data": {
      "text/plain": [
       "user_id         0\n",
       "timestamp       0\n",
       "group           0\n",
       "landing_page    0\n",
       "converted       0\n",
       "dtype: int64"
      ]
     },
     "execution_count": 12,
     "metadata": {},
     "output_type": "execute_result"
    }
   ],
   "source": [
    "# 检查缺失值并处理\n",
    "df.isnull().sum()"
   ]
  },
  {
   "cell_type": "code",
   "execution_count": 13,
   "id": "4e4e4962",
   "metadata": {},
   "outputs": [
    {
     "data": {
      "text/plain": [
       "0"
      ]
     },
     "execution_count": 13,
     "metadata": {},
     "output_type": "execute_result"
    }
   ],
   "source": [
    "# 检查重复值并处理\n",
    "df.duplicated().sum() #对于整体数据集没有重复值"
   ]
  },
  {
   "cell_type": "code",
   "execution_count": 14,
   "id": "a4ed5ec1",
   "metadata": {},
   "outputs": [
    {
     "data": {
      "text/plain": [
       "3894"
      ]
     },
     "execution_count": 14,
     "metadata": {},
     "output_type": "execute_result"
    }
   ],
   "source": [
    "# 检查用户是否有重复值\n",
    "df[\"user_id\"].duplicated().sum()"
   ]
  },
  {
   "cell_type": "code",
   "execution_count": 15,
   "id": "b82662c9",
   "metadata": {},
   "outputs": [
    {
     "data": {
      "text/plain": [
       "2656      698120\n",
       "2893      773192\n",
       "7500      899953\n",
       "8036      790934\n",
       "10218     633793\n",
       "           ...  \n",
       "294308    905197\n",
       "294309    787083\n",
       "294328    641570\n",
       "294331    689637\n",
       "294355    744456\n",
       "Name: user_id, Length: 3894, dtype: int64"
      ]
     },
     "execution_count": 15,
     "metadata": {},
     "output_type": "execute_result"
    }
   ],
   "source": [
    "df[df[\"user_id\"].duplicated()][\"user_id\"]"
   ]
  },
  {
   "cell_type": "code",
   "execution_count": 16,
   "id": "7a11284d",
   "metadata": {},
   "outputs": [
    {
     "data": {
      "text/html": [
       "<div>\n",
       "<style scoped>\n",
       "    .dataframe tbody tr th:only-of-type {\n",
       "        vertical-align: middle;\n",
       "    }\n",
       "\n",
       "    .dataframe tbody tr th {\n",
       "        vertical-align: top;\n",
       "    }\n",
       "\n",
       "    .dataframe thead th {\n",
       "        text-align: right;\n",
       "    }\n",
       "</style>\n",
       "<table border=\"1\" class=\"dataframe\">\n",
       "  <thead>\n",
       "    <tr style=\"text-align: right;\">\n",
       "      <th></th>\n",
       "      <th>user_id</th>\n",
       "      <th>timestamp</th>\n",
       "      <th>group</th>\n",
       "      <th>landing_page</th>\n",
       "      <th>converted</th>\n",
       "    </tr>\n",
       "  </thead>\n",
       "  <tbody>\n",
       "    <tr>\n",
       "      <th>988</th>\n",
       "      <td>698120</td>\n",
       "      <td>09:37.5</td>\n",
       "      <td>control</td>\n",
       "      <td>new_page</td>\n",
       "      <td>0</td>\n",
       "    </tr>\n",
       "    <tr>\n",
       "      <th>2656</th>\n",
       "      <td>698120</td>\n",
       "      <td>13:42.6</td>\n",
       "      <td>control</td>\n",
       "      <td>old_page</td>\n",
       "      <td>0</td>\n",
       "    </tr>\n",
       "  </tbody>\n",
       "</table>\n",
       "</div>"
      ],
      "text/plain": [
       "      user_id timestamp    group landing_page  converted\n",
       "988    698120   09:37.5  control     new_page          0\n",
       "2656   698120   13:42.6  control     old_page          0"
      ]
     },
     "execution_count": 16,
     "metadata": {},
     "output_type": "execute_result"
    }
   ],
   "source": [
    "# 查看其中一位重复用户\n",
    "df[df[\"user_id\"]==698120]"
   ]
  },
  {
   "cell_type": "code",
   "execution_count": 17,
   "id": "524ab796",
   "metadata": {},
   "outputs": [],
   "source": [
    "# 储存所有的重复用户ID，准备删除\n",
    "del_id = df[df[\"user_id\"].duplicated()][\"user_id\"].values"
   ]
  },
  {
   "cell_type": "code",
   "execution_count": 18,
   "id": "52f93d7a",
   "metadata": {},
   "outputs": [
    {
     "data": {
      "text/plain": [
       "7788"
      ]
     },
     "execution_count": 18,
     "metadata": {},
     "output_type": "execute_result"
    }
   ],
   "source": [
    "# 需要删除的重复样本量\n",
    "df[\"user_id\"].isin(del_id).sum()"
   ]
  },
  {
   "cell_type": "code",
   "execution_count": 19,
   "id": "6017f283",
   "metadata": {},
   "outputs": [
    {
     "data": {
      "text/plain": [
       "0         True\n",
       "1         True\n",
       "2         True\n",
       "3         True\n",
       "4         True\n",
       "          ... \n",
       "294473    True\n",
       "294474    True\n",
       "294475    True\n",
       "294476    True\n",
       "294477    True\n",
       "Name: user_id, Length: 294478, dtype: bool"
      ]
     },
     "execution_count": 19,
     "metadata": {},
     "output_type": "execute_result"
    }
   ],
   "source": [
    "~df[\"user_id\"].isin(del_id)"
   ]
  },
  {
   "cell_type": "code",
   "execution_count": 20,
   "id": "9a2be93e",
   "metadata": {},
   "outputs": [
    {
     "data": {
      "text/html": [
       "<div>\n",
       "<style scoped>\n",
       "    .dataframe tbody tr th:only-of-type {\n",
       "        vertical-align: middle;\n",
       "    }\n",
       "\n",
       "    .dataframe tbody tr th {\n",
       "        vertical-align: top;\n",
       "    }\n",
       "\n",
       "    .dataframe thead th {\n",
       "        text-align: right;\n",
       "    }\n",
       "</style>\n",
       "<table border=\"1\" class=\"dataframe\">\n",
       "  <thead>\n",
       "    <tr style=\"text-align: right;\">\n",
       "      <th></th>\n",
       "      <th>user_id</th>\n",
       "      <th>timestamp</th>\n",
       "      <th>group</th>\n",
       "      <th>landing_page</th>\n",
       "      <th>converted</th>\n",
       "    </tr>\n",
       "  </thead>\n",
       "  <tbody>\n",
       "    <tr>\n",
       "      <th>0</th>\n",
       "      <td>851104</td>\n",
       "      <td>11:48.6</td>\n",
       "      <td>control</td>\n",
       "      <td>old_page</td>\n",
       "      <td>0</td>\n",
       "    </tr>\n",
       "    <tr>\n",
       "      <th>1</th>\n",
       "      <td>804228</td>\n",
       "      <td>01:45.2</td>\n",
       "      <td>control</td>\n",
       "      <td>old_page</td>\n",
       "      <td>0</td>\n",
       "    </tr>\n",
       "    <tr>\n",
       "      <th>2</th>\n",
       "      <td>661590</td>\n",
       "      <td>55:06.2</td>\n",
       "      <td>treatment</td>\n",
       "      <td>new_page</td>\n",
       "      <td>0</td>\n",
       "    </tr>\n",
       "    <tr>\n",
       "      <th>3</th>\n",
       "      <td>853541</td>\n",
       "      <td>28:03.1</td>\n",
       "      <td>treatment</td>\n",
       "      <td>new_page</td>\n",
       "      <td>0</td>\n",
       "    </tr>\n",
       "    <tr>\n",
       "      <th>4</th>\n",
       "      <td>864975</td>\n",
       "      <td>52:26.2</td>\n",
       "      <td>control</td>\n",
       "      <td>old_page</td>\n",
       "      <td>1</td>\n",
       "    </tr>\n",
       "    <tr>\n",
       "      <th>...</th>\n",
       "      <td>...</td>\n",
       "      <td>...</td>\n",
       "      <td>...</td>\n",
       "      <td>...</td>\n",
       "      <td>...</td>\n",
       "    </tr>\n",
       "    <tr>\n",
       "      <th>294473</th>\n",
       "      <td>751197</td>\n",
       "      <td>28:38.6</td>\n",
       "      <td>control</td>\n",
       "      <td>old_page</td>\n",
       "      <td>0</td>\n",
       "    </tr>\n",
       "    <tr>\n",
       "      <th>294474</th>\n",
       "      <td>945152</td>\n",
       "      <td>51:57.1</td>\n",
       "      <td>control</td>\n",
       "      <td>old_page</td>\n",
       "      <td>0</td>\n",
       "    </tr>\n",
       "    <tr>\n",
       "      <th>294475</th>\n",
       "      <td>734608</td>\n",
       "      <td>45:03.4</td>\n",
       "      <td>control</td>\n",
       "      <td>old_page</td>\n",
       "      <td>0</td>\n",
       "    </tr>\n",
       "    <tr>\n",
       "      <th>294476</th>\n",
       "      <td>697314</td>\n",
       "      <td>20:29.0</td>\n",
       "      <td>control</td>\n",
       "      <td>old_page</td>\n",
       "      <td>0</td>\n",
       "    </tr>\n",
       "    <tr>\n",
       "      <th>294477</th>\n",
       "      <td>715931</td>\n",
       "      <td>40:24.5</td>\n",
       "      <td>treatment</td>\n",
       "      <td>new_page</td>\n",
       "      <td>0</td>\n",
       "    </tr>\n",
       "  </tbody>\n",
       "</table>\n",
       "<p>286690 rows × 5 columns</p>\n",
       "</div>"
      ],
      "text/plain": [
       "        user_id timestamp      group landing_page  converted\n",
       "0        851104   11:48.6    control     old_page          0\n",
       "1        804228   01:45.2    control     old_page          0\n",
       "2        661590   55:06.2  treatment     new_page          0\n",
       "3        853541   28:03.1  treatment     new_page          0\n",
       "4        864975   52:26.2    control     old_page          1\n",
       "...         ...       ...        ...          ...        ...\n",
       "294473   751197   28:38.6    control     old_page          0\n",
       "294474   945152   51:57.1    control     old_page          0\n",
       "294475   734608   45:03.4    control     old_page          0\n",
       "294476   697314   20:29.0    control     old_page          0\n",
       "294477   715931   40:24.5  treatment     new_page          0\n",
       "\n",
       "[286690 rows x 5 columns]"
      ]
     },
     "execution_count": 20,
     "metadata": {},
     "output_type": "execute_result"
    }
   ],
   "source": [
    "# 删除后生成新的df\n",
    "df_new = df[~df[\"user_id\"].isin(del_id)]\n",
    "df_new"
   ]
  },
  {
   "cell_type": "markdown",
   "id": "8c75e280",
   "metadata": {},
   "source": [
    "<div class=\"alert alert-block alert-success\">\n",
    "    \n",
    "- 接下来，要保证control组对应old_page,treatment组对应new_page\n",
    "    \n",
    "</div>"
   ]
  },
  {
   "cell_type": "code",
   "execution_count": 21,
   "id": "90157603",
   "metadata": {},
   "outputs": [
    {
     "data": {
      "text/plain": [
       "286690"
      ]
     },
     "execution_count": 21,
     "metadata": {},
     "output_type": "execute_result"
    }
   ],
   "source": [
    "(((df_new['group']=='treatment')&(df_new['landing_page']=='new_page'))|((df_new['group']=='control')&(df_new['landing_page']=='old_page'))).sum()"
   ]
  },
  {
   "cell_type": "code",
   "execution_count": 22,
   "id": "bfdca94f",
   "metadata": {},
   "outputs": [
    {
     "data": {
      "text/html": [
       "<div>\n",
       "<style scoped>\n",
       "    .dataframe tbody tr th:only-of-type {\n",
       "        vertical-align: middle;\n",
       "    }\n",
       "\n",
       "    .dataframe tbody tr th {\n",
       "        vertical-align: top;\n",
       "    }\n",
       "\n",
       "    .dataframe thead th {\n",
       "        text-align: right;\n",
       "    }\n",
       "</style>\n",
       "<table border=\"1\" class=\"dataframe\">\n",
       "  <thead>\n",
       "    <tr style=\"text-align: right;\">\n",
       "      <th>landing_page</th>\n",
       "      <th>new_page</th>\n",
       "      <th>old_page</th>\n",
       "    </tr>\n",
       "    <tr>\n",
       "      <th>group</th>\n",
       "      <th></th>\n",
       "      <th></th>\n",
       "    </tr>\n",
       "  </thead>\n",
       "  <tbody>\n",
       "    <tr>\n",
       "      <th>control</th>\n",
       "      <td>0</td>\n",
       "      <td>143293</td>\n",
       "    </tr>\n",
       "    <tr>\n",
       "      <th>treatment</th>\n",
       "      <td>143397</td>\n",
       "      <td>0</td>\n",
       "    </tr>\n",
       "  </tbody>\n",
       "</table>\n",
       "</div>"
      ],
      "text/plain": [
       "landing_page  new_page  old_page\n",
       "group                           \n",
       "control              0    143293\n",
       "treatment       143397         0"
      ]
     },
     "execution_count": 22,
     "metadata": {},
     "output_type": "execute_result"
    }
   ],
   "source": [
    "# 确保contorl组每个用户看到的是旧页面，treatment组看到的是新页面\n",
    "pd.crosstab(df_new['group'], df_new['landing_page'])"
   ]
  },
  {
   "cell_type": "markdown",
   "id": "90e64a15",
   "metadata": {},
   "source": [
    "<div class=\"alert alert-block alert-success\">\n",
    "    \n",
    "- 至此，所有的数据清洗工作已完成\n",
    "    \n",
    "</div>"
   ]
  },
  {
   "cell_type": "markdown",
   "id": "36f5b220",
   "metadata": {},
   "source": [
    "## 4. 抽样"
   ]
  },
  {
   "cell_type": "markdown",
   "id": "3019b938",
   "metadata": {},
   "source": [
    "<div class=\"alert alert-block alert-warning\">\n",
    " \n",
    "**思考：**     \n",
    "1. 根据前面最小样本量的计算，我们至少需要每组4720个样本，这里我们选择每组抽样5000个（**实际工作中不需要抽样这一步**）\n",
    "</div>"
   ]
  },
  {
   "cell_type": "code",
   "execution_count": 23,
   "id": "22789ad5",
   "metadata": {},
   "outputs": [
    {
     "data": {
      "text/html": [
       "<div>\n",
       "<style scoped>\n",
       "    .dataframe tbody tr th:only-of-type {\n",
       "        vertical-align: middle;\n",
       "    }\n",
       "\n",
       "    .dataframe tbody tr th {\n",
       "        vertical-align: top;\n",
       "    }\n",
       "\n",
       "    .dataframe thead th {\n",
       "        text-align: right;\n",
       "    }\n",
       "</style>\n",
       "<table border=\"1\" class=\"dataframe\">\n",
       "  <thead>\n",
       "    <tr style=\"text-align: right;\">\n",
       "      <th></th>\n",
       "      <th>user_id</th>\n",
       "      <th>timestamp</th>\n",
       "      <th>group</th>\n",
       "      <th>landing_page</th>\n",
       "      <th>converted</th>\n",
       "    </tr>\n",
       "  </thead>\n",
       "  <tbody>\n",
       "    <tr>\n",
       "      <th>0</th>\n",
       "      <td>740761</td>\n",
       "      <td>06:22.2</td>\n",
       "      <td>control</td>\n",
       "      <td>old_page</td>\n",
       "      <td>0</td>\n",
       "    </tr>\n",
       "    <tr>\n",
       "      <th>1</th>\n",
       "      <td>685906</td>\n",
       "      <td>37:19.4</td>\n",
       "      <td>control</td>\n",
       "      <td>old_page</td>\n",
       "      <td>0</td>\n",
       "    </tr>\n",
       "    <tr>\n",
       "      <th>2</th>\n",
       "      <td>803229</td>\n",
       "      <td>46:36.5</td>\n",
       "      <td>control</td>\n",
       "      <td>old_page</td>\n",
       "      <td>0</td>\n",
       "    </tr>\n",
       "    <tr>\n",
       "      <th>3</th>\n",
       "      <td>771051</td>\n",
       "      <td>49:52.4</td>\n",
       "      <td>control</td>\n",
       "      <td>old_page</td>\n",
       "      <td>0</td>\n",
       "    </tr>\n",
       "    <tr>\n",
       "      <th>4</th>\n",
       "      <td>726377</td>\n",
       "      <td>18:54.6</td>\n",
       "      <td>control</td>\n",
       "      <td>old_page</td>\n",
       "      <td>0</td>\n",
       "    </tr>\n",
       "    <tr>\n",
       "      <th>...</th>\n",
       "      <td>...</td>\n",
       "      <td>...</td>\n",
       "      <td>...</td>\n",
       "      <td>...</td>\n",
       "      <td>...</td>\n",
       "    </tr>\n",
       "    <tr>\n",
       "      <th>9995</th>\n",
       "      <td>721371</td>\n",
       "      <td>27:27.0</td>\n",
       "      <td>treatment</td>\n",
       "      <td>new_page</td>\n",
       "      <td>0</td>\n",
       "    </tr>\n",
       "    <tr>\n",
       "      <th>9996</th>\n",
       "      <td>795324</td>\n",
       "      <td>53:31.9</td>\n",
       "      <td>treatment</td>\n",
       "      <td>new_page</td>\n",
       "      <td>0</td>\n",
       "    </tr>\n",
       "    <tr>\n",
       "      <th>9997</th>\n",
       "      <td>895599</td>\n",
       "      <td>04:03.6</td>\n",
       "      <td>treatment</td>\n",
       "      <td>new_page</td>\n",
       "      <td>0</td>\n",
       "    </tr>\n",
       "    <tr>\n",
       "      <th>9998</th>\n",
       "      <td>760897</td>\n",
       "      <td>24:15.8</td>\n",
       "      <td>treatment</td>\n",
       "      <td>new_page</td>\n",
       "      <td>0</td>\n",
       "    </tr>\n",
       "    <tr>\n",
       "      <th>9999</th>\n",
       "      <td>768726</td>\n",
       "      <td>23:28.8</td>\n",
       "      <td>treatment</td>\n",
       "      <td>new_page</td>\n",
       "      <td>0</td>\n",
       "    </tr>\n",
       "  </tbody>\n",
       "</table>\n",
       "<p>10000 rows × 5 columns</p>\n",
       "</div>"
      ],
      "text/plain": [
       "      user_id timestamp      group landing_page  converted\n",
       "0      740761   06:22.2    control     old_page          0\n",
       "1      685906   37:19.4    control     old_page          0\n",
       "2      803229   46:36.5    control     old_page          0\n",
       "3      771051   49:52.4    control     old_page          0\n",
       "4      726377   18:54.6    control     old_page          0\n",
       "...       ...       ...        ...          ...        ...\n",
       "9995   721371   27:27.0  treatment     new_page          0\n",
       "9996   795324   53:31.9  treatment     new_page          0\n",
       "9997   895599   04:03.6  treatment     new_page          0\n",
       "9998   760897   24:15.8  treatment     new_page          0\n",
       "9999   768726   23:28.8  treatment     new_page          0\n",
       "\n",
       "[10000 rows x 5 columns]"
      ]
     },
     "execution_count": 23,
     "metadata": {},
     "output_type": "execute_result"
    }
   ],
   "source": [
    "required_n = 5000\n",
    "control_sample = df_new[df_new['group'] == 'control'].sample(n=required_n, random_state=0) \n",
    "treatment_sample = df_new[df_new['group'] == 'treatment'].sample(n=required_n, random_state=0) \n",
    "\n",
    "ab_test = pd.concat([control_sample, treatment_sample], axis=0) \n",
    "ab_test.reset_index(drop=True, inplace=True)\n",
    "ab_test"
   ]
  },
  {
   "cell_type": "code",
   "execution_count": 24,
   "id": "eddd7fb6",
   "metadata": {},
   "outputs": [
    {
     "data": {
      "text/html": [
       "<div>\n",
       "<style scoped>\n",
       "    .dataframe tbody tr th:only-of-type {\n",
       "        vertical-align: middle;\n",
       "    }\n",
       "\n",
       "    .dataframe tbody tr th {\n",
       "        vertical-align: top;\n",
       "    }\n",
       "\n",
       "    .dataframe thead th {\n",
       "        text-align: right;\n",
       "    }\n",
       "</style>\n",
       "<table border=\"1\" class=\"dataframe\">\n",
       "  <thead>\n",
       "    <tr style=\"text-align: right;\">\n",
       "      <th>landing_page</th>\n",
       "      <th>new_page</th>\n",
       "      <th>old_page</th>\n",
       "    </tr>\n",
       "    <tr>\n",
       "      <th>group</th>\n",
       "      <th></th>\n",
       "      <th></th>\n",
       "    </tr>\n",
       "  </thead>\n",
       "  <tbody>\n",
       "    <tr>\n",
       "      <th>control</th>\n",
       "      <td>0</td>\n",
       "      <td>5000</td>\n",
       "    </tr>\n",
       "    <tr>\n",
       "      <th>treatment</th>\n",
       "      <td>5000</td>\n",
       "      <td>0</td>\n",
       "    </tr>\n",
       "  </tbody>\n",
       "</table>\n",
       "</div>"
      ],
      "text/plain": [
       "landing_page  new_page  old_page\n",
       "group                           \n",
       "control              0      5000\n",
       "treatment         5000         0"
      ]
     },
     "execution_count": 24,
     "metadata": {},
     "output_type": "execute_result"
    }
   ],
   "source": [
    "pd.crosstab(ab_test['group'], ab_test['landing_page'])"
   ]
  },
  {
   "cell_type": "markdown",
   "id": "3497a44f",
   "metadata": {},
   "source": [
    "## 5. 转化率计算"
   ]
  },
  {
   "cell_type": "code",
   "execution_count": 25,
   "id": "285c50a1",
   "metadata": {},
   "outputs": [
    {
     "data": {
      "text/html": [
       "<div>\n",
       "<style scoped>\n",
       "    .dataframe tbody tr th:only-of-type {\n",
       "        vertical-align: middle;\n",
       "    }\n",
       "\n",
       "    .dataframe tbody tr th {\n",
       "        vertical-align: top;\n",
       "    }\n",
       "\n",
       "    .dataframe thead th {\n",
       "        text-align: right;\n",
       "    }\n",
       "</style>\n",
       "<table border=\"1\" class=\"dataframe\">\n",
       "  <thead>\n",
       "    <tr style=\"text-align: right;\">\n",
       "      <th></th>\n",
       "      <th>mean</th>\n",
       "      <th>std</th>\n",
       "    </tr>\n",
       "    <tr>\n",
       "      <th>group</th>\n",
       "      <th></th>\n",
       "      <th></th>\n",
       "    </tr>\n",
       "  </thead>\n",
       "  <tbody>\n",
       "    <tr>\n",
       "      <th>control</th>\n",
       "      <td>0.1122</td>\n",
       "      <td>0.315644</td>\n",
       "    </tr>\n",
       "    <tr>\n",
       "      <th>treatment</th>\n",
       "      <td>0.1202</td>\n",
       "      <td>0.325228</td>\n",
       "    </tr>\n",
       "  </tbody>\n",
       "</table>\n",
       "</div>"
      ],
      "text/plain": [
       "             mean       std\n",
       "group                      \n",
       "control    0.1122  0.315644\n",
       "treatment  0.1202  0.325228"
      ]
     },
     "execution_count": 25,
     "metadata": {},
     "output_type": "execute_result"
    }
   ],
   "source": [
    "conversion_rates = ab_test.groupby('group')['converted'].agg([np.mean,np.std])\n",
    "conversion_rates"
   ]
  },
  {
   "cell_type": "code",
   "execution_count": 26,
   "id": "8c3bf2dd",
   "metadata": {},
   "outputs": [
    {
     "data": {
      "text/html": [
       "<div>\n",
       "<style scoped>\n",
       "    .dataframe tbody tr th:only-of-type {\n",
       "        vertical-align: middle;\n",
       "    }\n",
       "\n",
       "    .dataframe tbody tr th {\n",
       "        vertical-align: top;\n",
       "    }\n",
       "\n",
       "    .dataframe thead th {\n",
       "        text-align: right;\n",
       "    }\n",
       "</style>\n",
       "<table border=\"1\" class=\"dataframe\">\n",
       "  <thead>\n",
       "    <tr style=\"text-align: right;\">\n",
       "      <th></th>\n",
       "      <th>conversion_rate</th>\n",
       "      <th>std_deviation</th>\n",
       "    </tr>\n",
       "    <tr>\n",
       "      <th>group</th>\n",
       "      <th></th>\n",
       "      <th></th>\n",
       "    </tr>\n",
       "  </thead>\n",
       "  <tbody>\n",
       "    <tr>\n",
       "      <th>control</th>\n",
       "      <td>0.1122</td>\n",
       "      <td>0.315644</td>\n",
       "    </tr>\n",
       "    <tr>\n",
       "      <th>treatment</th>\n",
       "      <td>0.1202</td>\n",
       "      <td>0.325228</td>\n",
       "    </tr>\n",
       "  </tbody>\n",
       "</table>\n",
       "</div>"
      ],
      "text/plain": [
       "           conversion_rate  std_deviation\n",
       "group                                    \n",
       "control             0.1122       0.315644\n",
       "treatment           0.1202       0.325228"
      ]
     },
     "execution_count": 26,
     "metadata": {},
     "output_type": "execute_result"
    }
   ],
   "source": [
    "# 更换列名\n",
    "conversion_rates.columns = ['conversion_rate', 'std_deviation']\n",
    "conversion_rates"
   ]
  },
  {
   "cell_type": "code",
   "execution_count": 27,
   "id": "de0b609d",
   "metadata": {},
   "outputs": [
    {
     "data": {
      "image/png": "[encoded data removed]",
      "text/plain": [
       "<Figure size 480x360 with 1 Axes>"
      ]
     },
     "metadata": {
      "needs_background": "light"
     },
     "output_type": "display_data"
    }
   ],
   "source": [
    "plt.rcParams['font.family'] = 'SimHei'\n",
    "plt.rcParams['axes.unicode_minus'] = False\n",
    "\n",
    "plt.figure(figsize=(8,6),dpi=60) \n",
    "sns.barplot(x=ab_test['group'], y=ab_test['converted'], ci=False) \n",
    "plt.ylim(0, 0.17) \n",
    "plt.title( '分组转化率', fontsize=20) \n",
    "plt.xlabel('分组', fontsize=15) \n",
    "plt.ylabel('转化(比例)', fontsize=15);"
   ]
  },
  {
   "cell_type": "markdown",
   "id": "c9ff323d",
   "metadata": {},
   "source": [
    "<div class=\"alert alert-block alert-success\">\n",
    "    \n",
    "- 从上面的统计数据来看，新旧两版落地页的表现结果非常相近，相比于旧版落地页，新版落地页的转化率略微好一点点，高了0.8%\n",
    "    \n",
    "</div>"
   ]
  },
  {
   "cell_type": "markdown",
   "id": "2f6735e1",
   "metadata": {},
   "source": [
    "<div class=\"alert alert-block alert-warning\">\n",
    " \n",
    "**思考：**     \n",
    "1. 那么，这种差异在统计学上显著么？我们可以直接说，新版落地页更好么？\n",
    "</div>"
   ]
  },
  {
   "cell_type": "markdown",
   "id": "ea674e5b",
   "metadata": {},
   "source": [
    "<div class=\"alert alert-block alert-success\">\n",
    "    \n",
    "- 需要通过假设检验进行验证\n",
    "    \n",
    "</div>"
   ]
  },
  {
   "cell_type": "markdown",
   "id": "1fd367d6",
   "metadata": {},
   "source": [
    "## 6. 假设检验"
   ]
  },
  {
   "cell_type": "markdown",
   "id": "cd77fa97",
   "metadata": {},
   "source": [
    "<div class=\"alert alert-block alert-success\">\n",
    "    \n",
    "- 在统计学中，当样本容量较大时（一般是大于30），我们可以使用Z检验或者t检验。\n",
    "- 在这个案例中，由于我们的样本非常大，所以我们使用Z检验。Python中的statsmodels.stats.proportion模块可以来计算P值和置信区间：\n",
    "</div>"
   ]
  },
  {
   "cell_type": "code",
   "execution_count": 28,
   "id": "0735bb75",
   "metadata": {},
   "outputs": [],
   "source": [
    "from statsmodels.stats.proportion import proportions_ztest, proportion_confint\n",
    "\n",
    "control_results = ab_test[ab_test['group'] == 'control']['converted']\n",
    "treatment_results = ab_test[ab_test['group'] == 'treatment']['converted']"
   ]
  },
  {
   "cell_type": "code",
   "execution_count": 29,
   "id": "368ab1b8",
   "metadata": {},
   "outputs": [
    {
     "data": {
      "text/plain": [
       "561"
      ]
     },
     "execution_count": 29,
     "metadata": {},
     "output_type": "execute_result"
    }
   ],
   "source": [
    "# 1的个数\n",
    "control_results.sum()"
   ]
  },
  {
   "cell_type": "code",
   "execution_count": 30,
   "id": "62a4cb6a",
   "metadata": {},
   "outputs": [
    {
     "data": {
      "text/plain": [
       "601"
      ]
     },
     "execution_count": 30,
     "metadata": {},
     "output_type": "execute_result"
    }
   ],
   "source": [
    "# 1的个数\n",
    "treatment_results.sum()"
   ]
  },
  {
   "cell_type": "code",
   "execution_count": 31,
   "id": "f2c225ba",
   "metadata": {},
   "outputs": [],
   "source": [
    "n_con = control_results.count()\n",
    "n_treat = treatment_results.count()\n",
    "successes = [control_results.sum(), treatment_results.sum()]\n",
    "nobs = [n_con, n_treat]"
   ]
  },
  {
   "cell_type": "code",
   "execution_count": 32,
   "id": "43fc41a1",
   "metadata": {},
   "outputs": [
    {
     "data": {
      "text/plain": [
       "[5000, 5000]"
      ]
     },
     "execution_count": 32,
     "metadata": {},
     "output_type": "execute_result"
    }
   ],
   "source": [
    "nobs"
   ]
  },
  {
   "cell_type": "code",
   "execution_count": 33,
   "id": "d9bd3753",
   "metadata": {},
   "outputs": [
    {
     "data": {
      "text/plain": [
       "[561, 601]"
      ]
     },
     "execution_count": 33,
     "metadata": {},
     "output_type": "execute_result"
    }
   ],
   "source": [
    "successes"
   ]
  },
  {
   "cell_type": "code",
   "execution_count": 34,
   "id": "82f03be3",
   "metadata": {},
   "outputs": [],
   "source": [
    "z_stat, pval = proportions_ztest(successes, nobs=nobs)"
   ]
  },
  {
   "cell_type": "code",
   "execution_count": 35,
   "id": "b880690f",
   "metadata": {},
   "outputs": [
    {
     "data": {
      "text/plain": [
       "-1.2481877864638855"
      ]
     },
     "execution_count": 35,
     "metadata": {},
     "output_type": "execute_result"
    }
   ],
   "source": [
    "z_stat"
   ]
  },
  {
   "cell_type": "code",
   "execution_count": 36,
   "id": "f1078839",
   "metadata": {},
   "outputs": [
    {
     "data": {
      "text/plain": [
       "0.21196229562845081"
      ]
     },
     "execution_count": 36,
     "metadata": {},
     "output_type": "execute_result"
    }
   ],
   "source": [
    "# p值\n",
    "pval"
   ]
  },
  {
   "cell_type": "code",
   "execution_count": 37,
   "id": "8b793bcd",
   "metadata": {},
   "outputs": [
    {
     "name": "stdout",
     "output_type": "stream",
     "text": [
      "z statistic: -1.25\n",
      "p-value: 0.212\n",
      "ci 95% for control group: [0.103, 0.121]\n",
      "ci 95% for treatment group: [0.111, 0.129]\n"
     ]
    }
   ],
   "source": [
    "(lower_con, lower_treat), (upper_con, upper_treat) = proportion_confint(successes,\n",
    "                                                                        nobs=nobs, \n",
    "                                                                        alpha=0.05)\n",
    "print(f'z statistic: {z_stat:.2f}')\n",
    "print(f'p-value: {pval:.3f}')\n",
    "print(f'ci 95% for control group: [{lower_con:.3f}, {upper_con:.3f}]')\n",
    "print(f'ci 95% for treatment group: [{lower_treat:.3f}, {upper_treat:.3f}]')"
   ]
  },
  {
   "cell_type": "markdown",
   "id": "04aa725d",
   "metadata": {},
   "source": [
    "## 6. 结果分析与建议"
   ]
  },
  {
   "cell_type": "markdown",
   "id": "fa0600d5",
   "metadata": {},
   "source": [
    "<div class=\"alert alert-block alert-success\">\n",
    "    \n",
    "- 由于我们计算出来的P值=0.212远高于显著水平 𝛼=0.05\n",
    " ，所以我们不能拒绝原假设H0.这意味着新版落地页与旧版落地页没有明显不同（更不用说更好了）\n",
    "- 此外，我们继续看置信区间，treatment组的置信区间为 [0.111, 0.129]，可以看出：\n",
    "    - 它包括我们的转化率基准线13%\n",
    "    - 但它不包括我们的转化率目标值15%\n",
    "    - 这就说明，新版落地页的真实转化率更有可能与我们的基线相似，而没有办法达到我们期望的15%。进一步证明了，新版设计并不是一个很好的改进。\n",
    "</div>"
   ]
  }
 ],
 "metadata": {
  "kernelspec": {
   "display_name": "Python 3",
   "language": "python",
   "name": "python3"
  },
  "language_info": {
   "codemirror_mode": {
    "name": "ipython",
    "version": 3
   },
   "file_extension": ".py",
   "mimetype": "text/x-python",
   "name": "python",
   "nbconvert_exporter": "python",
   "pygments_lexer": "ipython3",
   "version": "3.8.8"
  }
 },
 "nbformat": 4,
 "nbformat_minor": 5
}
